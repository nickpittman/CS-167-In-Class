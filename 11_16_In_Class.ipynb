{
  "nbformat": 4,
  "nbformat_minor": 0,
  "metadata": {
    "accelerator": "GPU",
    "colab": {
      "name": "11/16 In Class.ipynb",
      "provenance": [],
      "collapsed_sections": [],
      "include_colab_link": true
    },
    "kernelspec": {
      "display_name": "Python 3",
      "name": "python3"
    },
    "language_info": {
      "name": "python"
    }
  },
  "cells": [
    {
      "cell_type": "markdown",
      "metadata": {
        "id": "view-in-github",
        "colab_type": "text"
      },
      "source": [
        "<a href=\"https://colab.research.google.com/github/nickpittman/In-Class/blob/main/11_16_In_Class.ipynb\" target=\"_parent\"><img src=\"https://colab.research.google.com/assets/colab-badge.svg\" alt=\"Open In Colab\"/></a>"
      ]
    },
    {
      "cell_type": "markdown",
      "metadata": {
        "id": "Qm_xk4jzShLQ"
      },
      "source": [
        "# Day 20 Notes\n",
        "### Convolutional Neural Network Code \n",
        "We'll get some practice using tensorflow and keras "
      ]
    },
    {
      "cell_type": "code",
      "metadata": {
        "colab": {
          "base_uri": "https://localhost:8080/"
        },
        "id": "I-49rU2ebgWi",
        "outputId": "1a1ca0b7-efb1-4baa-84cb-a5edf637db8f"
      },
      "source": [
        "from google.colab import drive\n",
        "import pandas\n",
        "drive.mount('/content/drive')"
      ],
      "execution_count": null,
      "outputs": [
        {
          "output_type": "stream",
          "name": "stdout",
          "text": [
            "Mounted at /content/drive\n"
          ]
        }
      ]
    },
    {
      "cell_type": "markdown",
      "metadata": {
        "id": "VvyRvtbiZR9C"
      },
      "source": [
        "## Enable GPUs\n",
        "Go to 'Edit' and then 'Notebook Settings'. In the 'Hardware Accelerator' dropdown menu, select 'GPU'. This means that Colab will run on a GPU from Google rather than a CPU which will accelerate our training."
      ]
    },
    {
      "cell_type": "code",
      "metadata": {
        "colab": {
          "base_uri": "https://localhost:8080/"
        },
        "id": "V99rr32GZROh",
        "outputId": "8f856f06-a339-4e2b-8752-62b12417199e"
      },
      "source": [
        "%tensorflow_version 2.x\n",
        "import tensorflow as tf\n",
        "device_name = tf.test.gpu_device_name()\n",
        "if device_name != '/device:GPU:0':\n",
        "  raise SystemError('GPU device not found')\n",
        "print('Found GPU at: {}'.format(device_name))"
      ],
      "execution_count": null,
      "outputs": [
        {
          "output_type": "stream",
          "name": "stdout",
          "text": [
            "Found GPU at: /device:GPU:0\n"
          ]
        }
      ]
    },
    {
      "cell_type": "code",
      "metadata": {
        "colab": {
          "base_uri": "https://localhost:8080/"
        },
        "id": "yHEh6Jp_aqI-",
        "outputId": "94857ee0-4683-46c4-8b49-82e2c74a317a"
      },
      "source": [
        "import keras\n",
        "import tensorflow \n",
        "print (\"TensorFlow version: \" + tensorflow.__version__)\n",
        "print (\"Keras version: \" + keras.__version__)"
      ],
      "execution_count": null,
      "outputs": [
        {
          "output_type": "stream",
          "name": "stdout",
          "text": [
            "TensorFlow version: 2.7.0\n",
            "Keras version: 2.7.0\n"
          ]
        }
      ]
    },
    {
      "cell_type": "code",
      "metadata": {
        "id": "1mRtAHaMavg5"
      },
      "source": [
        "#ignore warnings\n",
        "import warnings\n",
        "warnings.filterwarnings('ignore')"
      ],
      "execution_count": null,
      "outputs": []
    },
    {
      "cell_type": "code",
      "metadata": {
        "id": "uEOuptyDazCz"
      },
      "source": [
        "# baseline model for the dogs vs cats dataset\n",
        "import keras\n",
        "import sys\n",
        "from matplotlib import pyplot\n",
        "from tensorflow.keras.utils import to_categorical\n",
        "from keras.models import Sequential\n",
        "from keras.layers import Conv2D\n",
        "from keras.layers import MaxPooling2D\n",
        "from keras.layers import Dense\n",
        "from keras.layers import Flatten\n",
        "from tensorflow.keras.optimizers import SGD\n",
        "from keras.preprocessing.image import ImageDataGenerator"
      ],
      "execution_count": null,
      "outputs": []
    },
    {
      "cell_type": "code",
      "metadata": {
        "id": "bBu1WH6ya26f"
      },
      "source": [
        "# dimensions of our images.\n",
        "img_width = 200\n",
        "img_height = 200\n",
        "\n",
        "#the directories where our train and test data is\n",
        "train_data_dir = '/content/drive/MyDrive/Datasets/catdogdata/train' #2000 images\n",
        "test_data_dir = '/content/drive/MyDrive/Datasets/catdogdata/test'   #400 images\n",
        "\n",
        "#we will feed the training images to the neural network\n",
        "#in batches of 32 images at a time so we don't have \n",
        "#to load the entire data set into memory\n",
        "batch_size = 32\n"
      ],
      "execution_count": null,
      "outputs": []
    },
    {
      "cell_type": "markdown",
      "metadata": {
        "id": "M9UN16kdRWZN"
      },
      "source": [
        "# Load the data\n",
        "If you get a 'File not found' error here and you're sure your path is correct, make sure you unzipped the catdog.zip file. \n",
        "\n",
        "You may need to use a plugin if you want to unzip on Drive. Instead you can download it to your local machine, unzip it on your local machine and then upload to Drive. Uploading/upzipping on Drive may take a while (Mine took about 20 minutes). "
      ]
    },
    {
      "cell_type": "code",
      "metadata": {
        "colab": {
          "base_uri": "https://localhost:8080/"
        },
        "id": "T9XD_GSrbJhO",
        "outputId": "55a7ef1c-b8bb-42ba-e16b-fd6af539fdd5"
      },
      "source": [
        "# used to rescale the pixel values from [0, 255] to between 0 and 1\n",
        "datagen = ImageDataGenerator(rescale=1.0/255.0)\n",
        "\n",
        "#These will look for our training and testing data\n",
        "#in their respective directory, and it will figure out\n",
        "#the class of each example based on the subfolder it is in\n",
        "train_data = datagen.flow_from_directory(\n",
        "        train_data_dir,\n",
        "        target_size=(img_width, img_height),\n",
        "        batch_size=batch_size,\n",
        "        class_mode='binary')\n",
        "\n",
        "test_data = datagen.flow_from_directory(\n",
        "        test_data_dir,\n",
        "        target_size=(img_width, img_height),\n",
        "        batch_size=batch_size,\n",
        "        class_mode='binary')"
      ],
      "execution_count": null,
      "outputs": [
        {
          "output_type": "stream",
          "name": "stdout",
          "text": [
            "Found 2000 images belonging to 2 classes.\n",
            "Found 400 images belonging to 2 classes.\n"
          ]
        }
      ]
    },
    {
      "cell_type": "code",
      "metadata": {
        "id": "egPbx_xSQyTo"
      },
      "source": [
        "#setting up a sequential model with 3 convolutional layers, each with 32 feature maps\n",
        "#from regions that are 3x3 in the image\n",
        "model = Sequential()\n",
        "# 32 filters, 3x3 filter size, relu activation, input shape \n",
        "model.add(Conv2D(32, (3, 3), activation = 'relu', input_shape=(img_width, img_height, 3)))\n",
        "model.add(Conv2D(32, (3, 3), activation = 'relu'))\n",
        "model.add(Conv2D(32, (3, 3), activation = 'relu'))\n",
        "model.add(Flatten()) #flatten the convolutional layer so it can go into a fully-connected layer\n",
        "model.add(Dense(32)) #fully-connected layer\n",
        "model.add(Dense(1,activation='sigmoid'))\n",
        "\n",
        "# need to compile the model before you can use it\n",
        "opt = SGD(lr=0.001, momentum=0.9)\n",
        "model.compile(optimizer=opt, loss='binary_crossentropy', metrics=['accuracy'])"
      ],
      "execution_count": null,
      "outputs": []
    },
    {
      "cell_type": "code",
      "metadata": {
        "colab": {
          "base_uri": "https://localhost:8080/"
        },
        "id": "hMiBVry2R8dl",
        "outputId": "d6365e44-3232-43d0-b17b-bce12fac2b4f"
      },
      "source": [
        "#This will actually train the model.\n",
        "#You will want to change the epochs to something small enough to run on your computer.\n",
        "#Maybe 3 to 10 if you do not have a GPU doing the work.\n",
        "training_results = model.fit_generator(\n",
        "        train_data, #training set\n",
        "        steps_per_epoch = len(train_data), \n",
        "        epochs=5, #number of epochs \n",
        "        validation_data = test_data, #testing set\n",
        "        validation_steps = len(test_data)\n",
        "        )"
      ],
      "execution_count": null,
      "outputs": [
        {
          "output_type": "stream",
          "name": "stdout",
          "text": [
            "Epoch 1/5\n",
            "63/63 [==============================] - 354s 6s/step - loss: 0.6915 - accuracy: 0.5185 - val_loss: 0.6832 - val_accuracy: 0.5300\n",
            "Epoch 2/5\n",
            "63/63 [==============================] - 19s 301ms/step - loss: 0.6769 - accuracy: 0.5750 - val_loss: 0.6749 - val_accuracy: 0.5475\n",
            "Epoch 3/5\n",
            "63/63 [==============================] - 19s 299ms/step - loss: 0.6560 - accuracy: 0.6165 - val_loss: 0.6588 - val_accuracy: 0.6200\n",
            "Epoch 4/5\n",
            "63/63 [==============================] - 19s 299ms/step - loss: 0.6357 - accuracy: 0.6490 - val_loss: 0.6670 - val_accuracy: 0.5875\n",
            "Epoch 5/5\n",
            "63/63 [==============================] - 19s 299ms/step - loss: 0.6253 - accuracy: 0.6625 - val_loss: 0.7017 - val_accuracy: 0.5500\n"
          ]
        }
      ]
    },
    {
      "cell_type": "code",
      "metadata": {
        "colab": {
          "base_uri": "https://localhost:8080/",
          "height": 294
        },
        "id": "ztuazstBSAUg",
        "outputId": "9ebdc2c0-fcf0-4dec-fbc7-12ecf17002a7"
      },
      "source": [
        "import matplotlib.pyplot as plt\n",
        "%matplotlib inline\n",
        "plt.plot(training_results.history['accuracy'])\n",
        "plt.plot(training_results.history['val_accuracy'])\n",
        "plt.title('model accuracy')\n",
        "plt.ylabel('accuracy')\n",
        "plt.xlabel('epoch')\n",
        "plt.legend(['train', 'test'], loc='upper left')\n",
        "plt.show()"
      ],
      "execution_count": null,
      "outputs": [
        {
          "output_type": "display_data",
          "data": {
            "image/png": "[encoded data removed]",
            "text/plain": [
              "<Figure size 432x288 with 1 Axes>"
            ]
          },
          "metadata": {
            "needs_background": "light"
          }
        }
      ]
    },
    {
      "cell_type": "code",
      "metadata": {
        "id": "bNq4sibZSBM8"
      },
      "source": [
        "\n",
        "#We'll try a second model, adding pooling layers after each convolutional layer\n",
        "model2 = Sequential()\n",
        "model2.add(Conv2D(32, (3, 3), activation = 'relu', input_shape=(img_width, img_height, 3)))\n",
        "model2.add(MaxPooling2D(pool_size=(2, 2)))\n",
        "\n",
        "model2.add(Conv2D(32, (3, 3),activation = 'relu'))\n",
        "model2.add(MaxPooling2D(pool_size=(2, 2)))\n",
        "\n",
        "model2.add(Conv2D(64, (3, 3),activation = 'relu')) #this layer number\n",
        "model2.add(MaxPooling2D(pool_size=(2, 2)))\n",
        "\n",
        "model2.add(Flatten())\n",
        "model2.add(Dense(64,activation = 'relu')) # must equal this number\n",
        "model2.add(Dense(1,activation='sigmoid'))\n",
        "\n",
        "# need to compile the model before you can use it\n",
        "opt = SGD(lr=0.001, momentum=0.9)\n",
        "model2.compile(optimizer=opt, loss='binary_crossentropy', metrics=['accuracy'])"
      ],
      "execution_count": null,
      "outputs": []
    },
    {
      "cell_type": "code",
      "metadata": {
        "id": "WB-ayuFASDuK",
        "colab": {
          "base_uri": "https://localhost:8080/"
        },
        "outputId": "8965161e-e1eb-4406-fe07-f4ecd20139c1"
      },
      "source": [
        "#This will actually train the model.\n",
        "#You will want to change the epochs to something small enough to run on your computer.\n",
        "#Maybe 3 to 10 if you do not have a GPU doing the work.\n",
        "training_results2 = model2.fit_generator(\n",
        "        train_data, #training set\n",
        "        steps_per_epoch = len(train_data), \n",
        "        epochs=10, #number of epochs \n",
        "        validation_data = test_data, #testing set\n",
        "        validation_steps = len(test_data)\n",
        "        )"
      ],
      "execution_count": null,
      "outputs": [
        {
          "output_type": "stream",
          "text": [
            "Epoch 1/10\n",
            "63/63 [==============================] - 11s 163ms/step - loss: 0.6933 - accuracy: 0.5093 - val_loss: 0.6840 - val_accuracy: 0.5750\n",
            "Epoch 2/10\n",
            "63/63 [==============================] - 10s 159ms/step - loss: 0.6860 - accuracy: 0.5416 - val_loss: 0.6795 - val_accuracy: 0.5800\n",
            "Epoch 3/10\n",
            "63/63 [==============================] - 10s 158ms/step - loss: 0.6832 - accuracy: 0.5677 - val_loss: 0.6727 - val_accuracy: 0.5875\n",
            "Epoch 4/10\n",
            "63/63 [==============================] - 10s 157ms/step - loss: 0.6827 - accuracy: 0.5467 - val_loss: 0.6661 - val_accuracy: 0.6275\n",
            "Epoch 5/10\n",
            "63/63 [==============================] - 10s 157ms/step - loss: 0.6750 - accuracy: 0.5854 - val_loss: 0.6587 - val_accuracy: 0.6325\n",
            "Epoch 6/10\n",
            "63/63 [==============================] - 10s 157ms/step - loss: 0.6578 - accuracy: 0.6220 - val_loss: 0.6481 - val_accuracy: 0.6600\n",
            "Epoch 7/10\n",
            "63/63 [==============================] - 10s 156ms/step - loss: 0.6586 - accuracy: 0.6077 - val_loss: 0.6823 - val_accuracy: 0.5525\n",
            "Epoch 8/10\n",
            "63/63 [==============================] - 10s 157ms/step - loss: 0.6551 - accuracy: 0.6100 - val_loss: 0.6490 - val_accuracy: 0.6050\n",
            "Epoch 9/10\n",
            "63/63 [==============================] - 10s 158ms/step - loss: 0.6448 - accuracy: 0.6395 - val_loss: 0.7115 - val_accuracy: 0.5325\n",
            "Epoch 10/10\n",
            "63/63 [==============================] - 10s 159ms/step - loss: 0.6446 - accuracy: 0.6159 - val_loss: 0.6541 - val_accuracy: 0.5875\n"
          ],
          "name": "stdout"
        }
      ]
    },
    {
      "cell_type": "code",
      "metadata": {
        "id": "3BRZM8UBSGOo",
        "colab": {
          "base_uri": "https://localhost:8080/",
          "height": 295
        },
        "outputId": "8890edb6-3dd2-4815-e0fb-f6155d13295c"
      },
      "source": [
        "import matplotlib.pyplot as plt\n",
        "%matplotlib inline\n",
        "plt.plot(training_results2.history['accuracy'])\n",
        "plt.plot(training_results2.history['val_accuracy'])\n",
        "plt.title('model accuracy')\n",
        "plt.ylabel('accuracy')\n",
        "plt.xlabel('epoch')\n",
        "plt.legend(['train', 'test'], loc='upper left')\n",
        "plt.show()"
      ],
      "execution_count": null,
      "outputs": [
        {
          "output_type": "display_data",
          "data": {
            "image/png": "[encoded data removed]",
            "text/plain": [
              "<Figure size 432x288 with 1 Axes>"
            ]
          },
          "metadata": {
            "tags": [],
            "needs_background": "light"
          }
        }
      ]
    },
    {
      "cell_type": "markdown",
      "metadata": {
        "id": "UeHAyTm5uezi"
      },
      "source": [
        "# Now, try your own image:\n"
      ]
    },
    {
      "cell_type": "code",
      "metadata": {
        "colab": {
          "base_uri": "https://localhost:8080/",
          "height": 316
        },
        "id": "FCQ1eiCkvXC2",
        "outputId": "86fedd4f-7c1c-48c1-dd0c-f7ff523c1232"
      },
      "source": [
        "from IPython.display import Image\n",
        "display(Image('/content/drive/MyDrive/Datasets/catdogdata/test/dogs/dog.1000.jpg', width=200, height=300))"
      ],
      "execution_count": null,
      "outputs": [
        {
          "output_type": "display_data",
          "data": {
            "image/jpeg": "[encoded data removed]",
            "text/plain": [
              "<IPython.core.display.Image object>"
            ]
          },
          "metadata": {
            "image/jpeg": {
              "width": 200,
              "height": 300
            }
          }
        }
      ]
    },
    {
      "cell_type": "code",
      "metadata": {
        "id": "F3XMBtN6SJlq",
        "colab": {
          "base_uri": "https://localhost:8080/"
        },
        "outputId": "ea6e1f93-9efe-4752-a51a-40536baa17d4"
      },
      "source": [
        "#try your own image..\n",
        "\n",
        "from keras.preprocessing.image import load_img\n",
        "from keras.preprocessing.image import img_to_array\n",
        "img = load_img(\"/content/drive/MyDrive/Datasets/Ace.jpg\", target_size=(200, 200))\n",
        "#img = load_img(\"cat_pic.jpeg\", target_size=(200, 200))\n",
        "\n",
        "# convert to array\n",
        "img = img_to_array(img)\n",
        "# reshape into a single sample with 3 channels\n",
        "\n",
        "img = img.reshape(1, 200, 200, 3)\n",
        "img = img.astype('float32')\n",
        "#convert image from [0,255] to [0,1]\n",
        "img = datagen.standardize(img)\n",
        "\n",
        "# predict the class  # 0 is cat; 1 is dog\n",
        "result = model2.predict(img)\n",
        "print(result)"
      ],
      "execution_count": null,
      "outputs": [
        {
          "output_type": "stream",
          "text": [
            "[[0.66558146]]\n"
          ],
          "name": "stdout"
        }
      ]
    },
    {
      "cell_type": "code",
      "metadata": {
        "id": "fMg1okPIuj6_"
      },
      "source": [
        ""
      ],
      "execution_count": null,
      "outputs": []
    }
  ]
}